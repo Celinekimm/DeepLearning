{
  "nbformat": 4,
  "nbformat_minor": 0,
  "metadata": {
    "colab": {
      "name": "Dense Layers.ipynb",
      "provenance": [],
      "authorship_tag": "ABX9TyOLnJybd4eLSArL1sPoHHMj",
      "include_colab_link": true
    },
    "kernelspec": {
      "name": "python3",
      "display_name": "Python 3"
    },
    "language_info": {
      "name": "python"
    }
  },
  "cells": [
    {
      "cell_type": "markdown",
      "metadata": {
        "id": "view-in-github",
        "colab_type": "text"
      },
      "source": [
        "<a href=\"https://colab.research.google.com/github/Celinekimm/DeepLearning/blob/main/Dense_Layers.ipynb\" target=\"_parent\"><img src=\"https://colab.research.google.com/assets/colab-badge.svg\" alt=\"Open In Colab\"/></a>"
      ]
    },
    {
      "cell_type": "code",
      "execution_count": 8,
      "metadata": {
        "colab": {
          "base_uri": "https://localhost:8080/"
        },
        "id": "uQLsv0XWSwgg",
        "outputId": "1950bce6-9eea-4160-f73c-2b943ccd853a"
      },
      "outputs": [
        {
          "output_type": "stream",
          "name": "stdout",
          "text": [
            "Y(Tensorflow): \n",
            " [[0.65565443 0.25478333 0.7557909 ]\n",
            " [0.81352764 0.18714339 0.6243402 ]\n",
            " [0.41831446 0.4628297  0.43577582]\n",
            " [0.67262816 0.53900284 0.6872364 ]]\n",
            "Y(with matrix mlitiplication: \n",
            " [[0.65565443 0.25478333 0.7557908 ]\n",
            " [0.81352764 0.18714339 0.6243402 ]\n",
            " [0.41831443 0.4628297  0.43577582]\n",
            " [0.67262816 0.53900284 0.6872364 ]]\n"
          ]
        }
      ],
      "source": [
        "import numpy as np\n",
        "import tensorflow as tf\n",
        "\n",
        "from tensorflow.keras.layers import Dense\n",
        "from tensorflow.math import exp\n",
        "from tensorflow.linalg import matmul\n",
        "\n",
        "N, n_feature = 4, 10\n",
        "X = tf.random.normal(shape=(N, n_feature))\n",
        "\n",
        "n_neuron = 3\n",
        "dense = Dense(units=n_neuron, activation='sigmoid')\n",
        "Y_tf= dense(X)\n",
        "\n",
        "W, B = dense.get_weights()\n",
        "print(\"Y(Tensorflow): \\n\", Y_tf.numpy())\n",
        "\n",
        "# calculate with matrix multiplication\n",
        "Z = matmul(X, W) + B\n",
        "Y_man_matmul = 1/(1 + exp(-Z))\n",
        "print(\"Y(with matrix mlitiplication: \\n\", Y_man_matmul.numpy())"
      ]
    },
    {
      "cell_type": "markdown",
      "source": [
        "## Cascade Dense Layers"
      ],
      "metadata": {
        "id": "0idWzz8sYt-p"
      }
    },
    {
      "cell_type": "code",
      "source": [
        "N, n_feature = 4, 10\n",
        "X = tf.random.normal(shape=(N, n_feature))\n",
        "\n",
        "n_neurons = [3, 5]\n",
        "dense1 = Dense(units=n_neurons[0], activation='sigmoid')\n",
        "dense2 = Dense(units=n_neurons[1], activation='sigmoid')\n",
        "\n",
        "# forward propagation\n",
        "A1 = dense1(X)\n",
        "Y = dense2(A1)\n",
        "\n",
        "# get weight/bias\n",
        "W1, B1 = dense1.get_weights()\n",
        "W2, B2 = dense2.get_weights()\n",
        "\n",
        "print(\"X: {}\\n\".format(X.shape))\n",
        "\n",
        "print(\"W1: \", W1.shape)\n",
        "print(\"B1: \", B1.shape)\n",
        "print(\"A1: {}\\n\".format(A1.shape))\n",
        "\n",
        "print(\"W2: \", W2.shape)\n",
        "print(\"B2: \", B2.shape)\n",
        "\n",
        "print(\"Y: {}\".format(Y.shape))"
      ],
      "metadata": {
        "colab": {
          "base_uri": "https://localhost:8080/"
        },
        "id": "paaVQSbzUTCU",
        "outputId": "401f69c3-5979-442b-a094-47e0e877ffa7"
      },
      "execution_count": 15,
      "outputs": [
        {
          "output_type": "stream",
          "name": "stdout",
          "text": [
            "X: (4, 10)\n",
            "\n",
            "W1:  (10, 3)\n",
            "B1:  (3,)\n",
            "A1: (4, 3)\n",
            "\n",
            "W2:  (3, 5)\n",
            "B2:  (5,)\n",
            "Y: (4, 5)\n"
          ]
        }
      ]
    },
    {
      "cell_type": "markdown",
      "source": [
        "## Dense Layers with Python List"
      ],
      "metadata": {
        "id": "StqbLEijbk4o"
      }
    },
    {
      "cell_type": "code",
      "source": [
        "import tensorflow as tf\n",
        "from tensorflow.keras.layers import Dense\n",
        "\n",
        "N, n_feature = 4, 10\n",
        "X = tf.random.normal(shape=(N, n_feature))\n",
        "n_neurons = [10, 20, 30, 40, 50, 60, 70, 80, 90, 100]\n",
        "\n",
        "dense_layers = list()\n",
        "for n_neuron in n_neurons:\n",
        "  dense = Dense(units=n_neuron, activation='relu')\n",
        "  dense_layers.append(dense)\n",
        "\n",
        "print(\"Input: \", X.shape)\n",
        "for dense_idx, dense in enumerate(dense_layers):\n",
        "    X = dense(X)\n",
        "    print(\"After dense layer\", dense_idx+1)\n",
        "    print(X.shape, '\\n')\n"
      ],
      "metadata": {
        "colab": {
          "base_uri": "https://localhost:8080/"
        },
        "id": "7ckflth6aAPl",
        "outputId": "a62427d0-a8be-49b7-a41c-db464265c396"
      },
      "execution_count": 25,
      "outputs": [
        {
          "output_type": "stream",
          "name": "stdout",
          "text": [
            "Input:  (4, 10)\n",
            "After dense layer 1\n",
            "(4, 10) \n",
            "\n",
            "After dense layer 2\n",
            "(4, 20) \n",
            "\n",
            "After dense layer 3\n",
            "(4, 30) \n",
            "\n",
            "After dense layer 4\n",
            "(4, 40) \n",
            "\n",
            "After dense layer 5\n",
            "(4, 50) \n",
            "\n",
            "After dense layer 6\n",
            "(4, 60) \n",
            "\n",
            "After dense layer 7\n",
            "(4, 70) \n",
            "\n",
            "After dense layer 8\n",
            "(4, 80) \n",
            "\n",
            "After dense layer 9\n",
            "(4, 90) \n",
            "\n",
            "After dense layer 10\n",
            "(4, 100) \n",
            "\n"
          ]
        }
      ]
    },
    {
      "cell_type": "markdown",
      "source": [
        "## Output Calculations"
      ],
      "metadata": {
        "id": "QUrZGH3rfYsw"
      }
    },
    {
      "cell_type": "code",
      "source": [
        "N, n_feature = 4, 10\n",
        "X = tf.random.normal(shape=(N, n_feature))\n",
        "X_cp = tf.identity(X)\n",
        "\n",
        "n_neurons = [3, 4, 5]\n",
        "\n",
        "dense_layers = list()\n",
        "for n_neuron in n_neurons:\n",
        "  dense = Dense(units=n_neuron, activation='sigmoid')\n",
        "  dense_layers.append(dense)\n",
        "\n",
        "# forward propagation(Tensorflow)\n",
        "W, B = list(), list()\n",
        "for dense_idx, dense in enumerate(dense_layers):\n",
        "    X = dense(X)\n",
        "    w, b = dense.get_weights()\n",
        "\n",
        "    W.append(w)\n",
        "    B.append(b)\n",
        "print(\"Y(Tensorflow: \\n\", X.numpy())\n",
        "\n",
        "# get weight/bias\n",
        "W1, B1 = dense1.get_weights()\n",
        "W2, B2 = dense2.get_weights()\n",
        "\n"
      ],
      "metadata": {
        "colab": {
          "base_uri": "https://localhost:8080/"
        },
        "id": "wZG56CZCcTsS",
        "outputId": "01739725-3eef-4079-b759-2203a110d6b0"
      },
      "execution_count": 30,
      "outputs": [
        {
          "output_type": "stream",
          "name": "stdout",
          "text": [
            "Input:  (4, 10)\n",
            "Y(Tensorflow: \n",
            " [[0.61173403 0.5357505  0.38835824 0.49689215 0.53415155]\n",
            " [0.60162586 0.55127937 0.3890557  0.49882594 0.5394065 ]\n",
            " [0.61833394 0.5271613  0.37999332 0.4925075  0.5408832 ]\n",
            " [0.60115236 0.54306304 0.39086658 0.49663234 0.5392636 ]]\n"
          ]
        }
      ]
    },
    {
      "cell_type": "code",
      "source": [
        ""
      ],
      "metadata": {
        "id": "NdS96PIXg_75"
      },
      "execution_count": null,
      "outputs": []
    }
  ]
}