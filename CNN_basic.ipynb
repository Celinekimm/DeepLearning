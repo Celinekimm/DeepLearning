{
  "nbformat": 4,
  "nbformat_minor": 0,
  "metadata": {
    "colab": {
      "name": "CNN_basic.ipynb",
      "provenance": [],
      "authorship_tag": "ABX9TyO61A0N781v6EX8YXB/aaGz",
      "include_colab_link": true
    },
    "kernelspec": {
      "name": "python3",
      "display_name": "Python 3"
    },
    "language_info": {
      "name": "python"
    }
  },
  "cells": [
    {
      "cell_type": "markdown",
      "metadata": {
        "id": "view-in-github",
        "colab_type": "text"
      },
      "source": [
        "<a href=\"https://colab.research.google.com/github/Celinekimm/DeepLearning/blob/main/CNN_basic.ipynb\" target=\"_parent\"><img src=\"https://colab.research.google.com/assets/colab-badge.svg\" alt=\"Open In Colab\"/></a>"
      ]
    },
    {
      "cell_type": "markdown",
      "source": [
        "## Shapes in CNNs"
      ],
      "metadata": {
        "id": "S7fiLy0MxalG"
      }
    },
    {
      "cell_type": "code",
      "execution_count": 13,
      "metadata": {
        "colab": {
          "base_uri": "https://localhost:8080/"
        },
        "id": "PTJuHIG8xW1X",
        "outputId": "26de8d38-9738-4672-f023-2b8c58567532"
      },
      "outputs": [
        {
          "output_type": "stream",
          "name": "stdout",
          "text": [
            "Input: (32, 28, 28, 3)\n",
            "\n",
            "W/B: (3, 3, 3, 5)/(5,)\n",
            "After conv1: (32, 28, 28, 5)\n",
            "After conv1_pool: (32, 14, 14, 5)\n",
            "W/B: (3, 3, 3, 5)/(5,)\n",
            "After conv2: (32, 14, 14, 5)\n",
            "After conv2_pool: (32, 7, 7, 5)\n",
            "After flatten: (32, 245)\n"
          ]
        }
      ],
      "source": [
        "import tensorflow as tf\n",
        "\n",
        "from tensorflow.keras.layers import Conv2D\n",
        "from tensorflow.keras.layers import MaxPooling2D\n",
        "from tensorflow.keras.layers import Flatten\n",
        "\n",
        "N, n_H, n_W, n_c = 32, 28, 28, 3\n",
        "n_conv_filter = 5\n",
        "k_size = 3\n",
        "pool_size, pool_strides = 2, 2\n",
        "batch_size = 32\n",
        "\n",
        "x = tf.random.normal(shape=(N, n_H, n_W, n_c))\n",
        "\n",
        "conv1 = Conv2D(filters=n_conv_filter, kernel_size=k_size, \n",
        "              padding='same', activation='relu')\n",
        "conv1_pool = MaxPooling2D(pool_size=pool_size, strides=pool_strides)\n",
        "\n",
        "conv2 = Conv2D(filters=n_conv_filter, kernel_size=k_size, \n",
        "              padding='same', activation='relu')\n",
        "conv2_pool = MaxPooling2D(pool_size=pool_size, strides=pool_strides)\n",
        "\n",
        "flatten = Flatten()\n",
        "\n",
        "print(\"Input: {}\\n\".format(x.shape))\n",
        "\n",
        "x = conv1(x)\n",
        "W, B= conv1.get_weights()\n",
        "print(\"W/B: {}/{}\".format(W.shape, B.shape))\n",
        "print(\"After conv1: {}\".format(x.shape))\n",
        "x = conv1_pool(x)\n",
        "print(\"After conv1_pool: {}\".format(x.shape))\n",
        "\n",
        "x = conv2(x)\n",
        "W, B= conv1.get_weights()\n",
        "print(\"W/B: {}/{}\".format(W.shape, B.shape))\n",
        "print(\"After conv2: {}\".format(x.shape))\n",
        "x = conv2_pool(x)\n",
        "print(\"After conv2_pool: {}\".format(x.shape))\n",
        "\n",
        "x = flatten(x)\n",
        "print(\"After flatten: {}\".format(x.shape))"
      ]
    },
    {
      "cell_type": "markdown",
      "source": [
        "## Shapes in the Classifier"
      ],
      "metadata": {
        "id": "L43u5JFA6lyb"
      }
    },
    {
      "cell_type": "code",
      "source": [
        "from tensorflow.keras.layers import Dense\n",
        "\n",
        "n_neurons = [50, 25, 10]\n",
        "\n",
        "dense1 = Dense(units=n_neurons[0], activation='relu')\n",
        "dense2 = Dense(units=n_neurons[1], activation='relu')\n",
        "dense3 = Dense(units=n_neurons[2], activation='softmax')\n",
        "\n",
        "print(\"Input feature: {}\".format(x.shape))\n",
        "x = dense1(x)\n",
        "W, B = dense1.get_weights()\n",
        "print(\"W/B: {}/{}\".format(W.shape, B.shape))\n",
        "print(\"After dense1: {}\\n\".format(x.shape))\n",
        "\n",
        "x = dense2(x)\n",
        "W, B = dense2.get_weights()\n",
        "print(\"W/B: {}/{}\".format(W.shape, B.shape))\n",
        "print(\"After dense2: {}\\n\".format(x.shape))\n",
        "\n",
        "x = dense3(x)\n",
        "W, B = dense3.get_weights()\n",
        "print(\"W/B: {}/{}\".format(W.shape, B.shape))\n",
        "print(\"After dense3: {}\\n\".format(x.shape))"
      ],
      "metadata": {
        "colab": {
          "base_uri": "https://localhost:8080/"
        },
        "id": "rd_Pv88hzsm1",
        "outputId": "6e890382-655d-4bc6-d618-9c2522dcb1f6"
      },
      "execution_count": 14,
      "outputs": [
        {
          "output_type": "stream",
          "name": "stdout",
          "text": [
            "Input feature: (32, 245)\n",
            "W/B: (245, 50)/(50,)\n",
            "After dense1: (32, 50)\n",
            "\n",
            "W/B: (50, 25)/(25,)\n",
            "After dense2: (32, 25)\n",
            "\n",
            "W/B: (25, 10)/(10,)\n",
            "After dense3: (32, 10)\n",
            "\n"
          ]
        }
      ]
    },
    {
      "cell_type": "code",
      "source": [
        ""
      ],
      "metadata": {
        "id": "o2bQaD6P7e9q"
      },
      "execution_count": null,
      "outputs": []
    }
  ]
}